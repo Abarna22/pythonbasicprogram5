{
 "cells": [
  {
   "cell_type": "code",
   "execution_count": 2,
   "id": "3b3d7df2",
   "metadata": {},
   "outputs": [
    {
     "name": "stdout",
     "output_type": "stream",
     "text": [
      "12.0\n"
     ]
    }
   ],
   "source": [
    "\"\"\"1. Write a Python Program to Find LCM?\n",
    "Ans\"\"\"\n",
    "from math import gcd\n",
    "def lcm(a,b):\n",
    "    return a*b/(gcd(a,b))\n",
    "print(lcm(4,6))"
   ]
  },
  {
   "cell_type": "code",
   "execution_count": 7,
   "id": "8a9f1b08",
   "metadata": {},
   "outputs": [
    {
     "name": "stdout",
     "output_type": "stream",
     "text": [
      "50\n"
     ]
    }
   ],
   "source": [
    "\"\"\"2. Write a Python Program to Find HCF?\n",
    "Ans\"\"\"\n",
    "\n",
    "import math\n",
    "print (math.gcd(50, 100))"
   ]
  },
  {
   "cell_type": "code",
   "execution_count": 9,
   "id": "2841d664",
   "metadata": {},
   "outputs": [
    {
     "name": "stdout",
     "output_type": "stream",
     "text": [
      "enter the decimal value:344\n",
      "0b101011000 in binary.\n",
      "0o530 in octal.\n",
      "0x158 in hexadecimal.\n"
     ]
    }
   ],
   "source": [
    "\"\"\"3. Write a Python Program to Convert Decimal to Binary, Octal and Hexadecimal?\n",
    "Ans\"\"\"\n",
    "dec=int(input(\"enter the decimal value:\"))\n",
    "print(bin(dec), \"in binary.\")\n",
    "print(oct(dec), \"in octal.\")\n",
    "print(hex(dec), \"in hexadecimal.\")"
   ]
  },
  {
   "cell_type": "code",
   "execution_count": 10,
   "id": "d414abf2",
   "metadata": {},
   "outputs": [
    {
     "name": "stdout",
     "output_type": "stream",
     "text": [
      "Enter the character:p\n",
      "The ASCII value of 'p' is 112\n"
     ]
    }
   ],
   "source": [
    "\"\"\"4. Write a Python Program To Find ASCII value of a character?\n",
    "Ans\"\"\"\n",
    "c=input(\"Enter the character:\")\n",
    "print(\"The ASCII value of '\" + c + \"' is\", ord(c))"
   ]
  },
  {
   "cell_type": "code",
   "execution_count": 15,
   "id": "a0f4497b",
   "metadata": {},
   "outputs": [
    {
     "name": "stdout",
     "output_type": "stream",
     "text": [
      "Enter value a:8\n",
      "Enter value b:4\n",
      "Select which operation to be performed from the list 1.add, 2.sub, 3.mul, 4.divdiv\n",
      "2.0\n"
     ]
    }
   ],
   "source": [
    "\"\"\"5. Write a Python Program to Make a Simple Calculator with 4 basic mathematical operations?\n",
    "Ans\"\"\"\n",
    "a=int(input(\"Enter value a:\"))\n",
    "b=int(input(\"Enter value b:\"))\n",
    "\n",
    "c=input(\"Select which operation to be performed from the list 1.add, 2.sub, 3.mul, 4.div\")\n",
    "\n",
    "if(c==\"add\"):\n",
    "    print(a+b)\n",
    "elif (c==\"sub\"):\n",
    "    print(a-b)\n",
    "elif (c==\"mul\"):\n",
    "    print(a*b)\n",
    "elif (c==\"div\"):\n",
    "    print(a/b)\n",
    "else:\n",
    "    print(\"not applicable\")\n",
    "\n"
   ]
  },
  {
   "cell_type": "code",
   "execution_count": null,
   "id": "55b6037d",
   "metadata": {},
   "outputs": [],
   "source": []
  }
 ],
 "metadata": {
  "kernelspec": {
   "display_name": "Python 3",
   "language": "python",
   "name": "python3"
  },
  "language_info": {
   "codemirror_mode": {
    "name": "ipython",
    "version": 3
   },
   "file_extension": ".py",
   "mimetype": "text/x-python",
   "name": "python",
   "nbconvert_exporter": "python",
   "pygments_lexer": "ipython3",
   "version": "3.8.8"
  }
 },
 "nbformat": 4,
 "nbformat_minor": 5
}
